{
 "cells": [
  {
   "cell_type": "code",
   "execution_count": 4,
   "id": "7415429f-bd61-4f3a-8a92-90b38b47c112",
   "metadata": {},
   "outputs": [
    {
     "name": "stdout",
     "output_type": "stream",
     "text": [
      "x= 9\n",
      "y 5\n"
     ]
    }
   ],
   "source": [
    "''' 1.Declare two variables, `x` and `y`, and assign them integer values. Swap the values of these variables without using any temporary variable.'''\n",
    "x=5\n",
    "y=9\n",
    "x,y=y,x\n",
    "print(\"x=\",x)\n",
    "print(\"y\",y)"
   ]
  },
  {
   "cell_type": "code",
   "execution_count": 3,
   "id": "84796a05-944f-4983-a65e-ea188f70fd8e",
   "metadata": {},
   "outputs": [
    {
     "name": "stdin",
     "output_type": "stream",
     "text": [
      "enter the length : 4\n",
      "enter the width: 6\n"
     ]
    },
    {
     "name": "stdout",
     "output_type": "stream",
     "text": [
      "Area of rectangle= 24\n"
     ]
    }
   ],
   "source": [
    "'''  2. Create a program that calculates the area of a rectangle. Take the length and width as inputs from the user and store them in variables.\n",
    " Calculate and display the area.'''\n",
    "\n",
    "a= int(input(\"enter the length :\"))\n",
    "b= int (input(\"enter the width:\"))\n",
    "print(\"Area of rectangle=\",a*b)"
   ]
  },
  {
   "cell_type": "code",
   "execution_count": 5,
   "id": "49223aac-1753-4033-a671-6d81c33ce27a",
   "metadata": {},
   "outputs": [
    {
     "name": "stdin",
     "output_type": "stream",
     "text": [
      "enter the temperature in celcius: 36\n"
     ]
    },
    {
     "name": "stdout",
     "output_type": "stream",
     "text": [
      "temperature in Fahrenheit: 96.8\n"
     ]
    }
   ],
   "source": [
    "''' 3. Write a Python program that converts temperatures from Celsius to\n",
    " Fahrenheit. Take the temperature in Celsius as input, store it in a variable,\n",
    "  convert it to Fahrenheit, and display the result.'''\n",
    "\n",
    "C= int(input(\"enter the temperature in celcius:\"))\n",
    "F=C* 9/5 + 32\n",
    "print(\"temperature in Fahrenheit:\",F)"
   ]
  },
  {
   "cell_type": "code",
   "execution_count": 9,
   "id": "de472731-0ee6-42ae-968f-1c6c31d73ec9",
   "metadata": {},
   "outputs": [
    {
     "name": "stdin",
     "output_type": "stream",
     "text": [
      "enter the input: my name is Sumit Tiwari\n"
     ]
    },
    {
     "name": "stdout",
     "output_type": "stream",
     "text": [
      "my name is Sumit Tiwari\n",
      "23\n"
     ]
    }
   ],
   "source": [
    "'''1. Write a Python program that takes a string as input and prints the length of\n",
    "the string.'''\n",
    "string1=str(input(\"enter the input:\"))\n",
    "print(string1)\n",
    "print(len(string1))"
   ]
  },
  {
   "cell_type": "code",
   "execution_count": 12,
   "id": "e4ae437a-851a-43a2-9ec5-75c87742f8c2",
   "metadata": {},
   "outputs": [
    {
     "name": "stdout",
     "output_type": "stream",
     "text": [
      "number of vowels: 9\n"
     ]
    }
   ],
   "source": [
    "'''2. Create a program that takes a sentence from the user and counts the number\n",
    "of vowels (a, e, i, o, u) in the string.'''\n",
    "\n",
    "from collections import Counter\n",
    "\n",
    "def count_vowels_builtin(sentence):\n",
    "    vowels = \"AEIOUaeiou\"\n",
    "    vowel_count = Counter(c for c in sentence if c in vowels)\n",
    "    return sum(vowel_count.values())\n",
    "\n",
    "\n",
    "\n",
    "sentence = \"tony stark Is a gEnious man\"\n",
    "\n",
    "\n",
    "count2 = count_vowels_builtin(sentence)\n",
    "\n",
    "print(\"number of vowels:\", count2)\n",
    "\n"
   ]
  },
  {
   "cell_type": "code",
   "execution_count": 13,
   "id": "2ecad9e6-1b99-4317-8fb4-4954f807b7b3",
   "metadata": {},
   "outputs": [
    {
     "name": "stdout",
     "output_type": "stream",
     "text": [
      "reversed string: esruoc lliks wp\n"
     ]
    }
   ],
   "source": [
    "'''3.Given a string, reverse the order of characters using string slicing and print\n",
    "the reversed string.'''\n",
    "s='pw skill course'\n",
    "reverse=s[::-1]\n",
    "print(\"reversed string:\",reverse)"
   ]
  },
  {
   "cell_type": "code",
   "execution_count": 18,
   "id": "2c9cca76-2ed0-4508-aa52-4e241020f6fc",
   "metadata": {},
   "outputs": [
    {
     "name": "stdout",
     "output_type": "stream",
     "text": [
      "it is a pallindrome\n"
     ]
    }
   ],
   "source": [
    "''' 4. Write a program that takes a string as input and checks if it is a palindrome\n",
    "(reads the same forwards and backwards).'''\n",
    "\n",
    "# function which return reverse of a string\n",
    "\n",
    "def isPalindrome(s):\n",
    "\treturn s == s[::-1]\n",
    "\n",
    "s = \"malayalam\"\n",
    "res = isPalindrome(s)\n",
    "\n",
    "if res:\n",
    "\tprint(\"it is a pallindrome\")\n",
    "else:\n",
    "\tprint(\"it is not a pallindrome\")\n",
    "\n"
   ]
  },
  {
   "cell_type": "code",
   "execution_count": 20,
   "id": "6a414598-15a7-4340-bb7d-9bce9afb0ecf",
   "metadata": {},
   "outputs": [
    {
     "name": "stdin",
     "output_type": "stream",
     "text": [
      "enter the data: my name is Sumit Tiwari\n"
     ]
    },
    {
     "name": "stdout",
     "output_type": "stream",
     "text": [
      "mynameisSumitTiwari\n"
     ]
    }
   ],
   "source": [
    "'''5.Create a program that takes a string as input and removes all the spaces from\n",
    "it. Print the modified string without spaces.'''\n",
    "\n",
    "s=str(input(\"enter the data:\"))\n",
    "\n",
    "def remove_space(s):\n",
    "    return s.replace(\" \",\"\")\n",
    "\n",
    "print(remove_space(s))\n"
   ]
  },
  {
   "cell_type": "code",
   "execution_count": null,
   "id": "ee0ac6f8-f7ab-4933-81e9-75d24b1f94dc",
   "metadata": {},
   "outputs": [],
   "source": []
  }
 ],
 "metadata": {
  "kernelspec": {
   "display_name": "Python 3 (ipykernel)",
   "language": "python",
   "name": "python3"
  },
  "language_info": {
   "codemirror_mode": {
    "name": "ipython",
    "version": 3
   },
   "file_extension": ".py",
   "mimetype": "text/x-python",
   "name": "python",
   "nbconvert_exporter": "python",
   "pygments_lexer": "ipython3",
   "version": "3.10.0"
  }
 },
 "nbformat": 4,
 "nbformat_minor": 5
}
